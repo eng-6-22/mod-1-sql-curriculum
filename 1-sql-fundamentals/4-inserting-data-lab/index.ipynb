{
 "cells": [
  {
   "cell_type": "markdown",
   "metadata": {},
   "source": [
    "# Inserting data lab"
   ]
  },
  {
   "cell_type": "markdown",
   "metadata": {},
   "source": [
    "### Introduction"
   ]
  },
  {
   "cell_type": "markdown",
   "metadata": {},
   "source": [
    "Now that Mean Green has some tables to store information about employees and ingredients that it needs to purchase, it is ready to populate it's tables. In this lab we will practice inserting data into our newly created tables. We want the ingredients table to include information about the ingredients being used in the shop, and the employees table to include information about the employees who work at the shop. "
   ]
  },
  {
   "cell_type": "markdown",
   "metadata": {},
   "source": [
    "### Recreate the Tables"
   ]
  },
  {
   "cell_type": "markdown",
   "metadata": {},
   "source": [
    "Let's start out by recreating our database and tables from previous lessons. The code for creating the tables is provided for you. Copy and paste it into the appropriate files.\n",
    "\n",
    "```sql\n",
    "-- create_employees.sql\n",
    "CREATE TABLE employees (\n",
    "    id INTEGER PRIMARY KEY AUTOINCREMENT,\n",
    "    name TEXT,\n",
    "    position TEXT,\n",
    "    start_date DATE,\n",
    "    zip_code TEXT,\n",
    "    phone_number TEXT);\n",
    "```\n",
    "\n",
    "```sql\n",
    "-- create_ingredients.sql\n",
    "CREATE TABLE ingredients (\n",
    "    id INTEGER PRIMARY KEY AUTOINCREMENT,\n",
    "    name TEXT,\n",
    "    cost_per_ounce FLOAT,\n",
    "    calories_per_ounce INTEGER,\n",
    "    expiration DATE);\n",
    "```"
   ]
  },
  {
   "cell_type": "markdown",
   "metadata": {},
   "source": [
    "In our terminal run the following command to open up the sqlite shell.\n",
    "\n",
    "`sqlite3 saladshop.db`"
   ]
  },
  {
   "cell_type": "markdown",
   "metadata": {},
   "source": [
    "Then, when inside of the sqlite shell, run the following: \n",
    "    \n",
    "`.read create_ingredients.sql`\n",
    "\n",
    "`.read create_employees.sql`"
   ]
  },
  {
   "cell_type": "markdown",
   "metadata": {},
   "source": [
    "Then, from inside of the shell, make sure our database is set up correctly by running `.tables`."
   ]
  },
  {
   "cell_type": "markdown",
   "metadata": {},
   "source": [
    "### Populating the Ingredients Table"
   ]
  },
  {
   "cell_type": "markdown",
   "metadata": {},
   "source": [
    "Now that our database and tables have been created we can begin to insert data below."
   ]
  },
  {
   "cell_type": "markdown",
   "metadata": {},
   "source": [
    "| name         | cost_per_ounce | calories_per_ounce | expiration  |\n",
    "|--------------|----------------|--------------------|-------------|\n",
    "| baby spinach |  .19           | 7                  |  2020-02-05 |\n",
    "| kale         | .50            | 10                 |  2020-02-10 |\n",
    "| tomatoes     | 1.25           | 5                  |  2020-01-30 |\n",
    "| broccoli     |  1.15          | 45                 | 2020-02-10  |\n",
    "| chicken      | 3.50           | 60                 | 2020-02-07  |"
   ]
  },
  {
   "cell_type": "markdown",
   "metadata": {},
   "source": [
    "Using the data provided above, insert the data into the ingredients table.\n",
    "```sql\n",
    "INSERT INTO *table name* (*column names*) VALUES\n",
    "    (*data*),\n",
    "    (*data*);\n",
    "```\n",
    "\n",
    "Steps:\n",
    "1. First create a new file called insert_ingredients.sql\n",
    "2. In the insert_ingredients.sql, add the INSERT statement to add the above data to our ingredients table.\n",
    "3. Run `.read insert_ingredients.sql` in the sqlite shell"
   ]
  },
  {
   "cell_type": "markdown",
   "metadata": {},
   "source": [
    "If the data has been inserted correctly, running the following `select * from ingredients` in the sqlite shell will return all of the data in the ingredients table."
   ]
  },
  {
   "cell_type": "markdown",
   "metadata": {},
   "source": [
    "### Populating Employees Table"
   ]
  },
  {
   "cell_type": "markdown",
   "metadata": {},
   "source": [
    "Let's repeat the same steps as above, except this time, inserting data into the employees table. This time, name the file insert_employees.sql."
   ]
  },
  {
   "cell_type": "markdown",
   "metadata": {},
   "source": [
    "| name    | position        | start_date | zip_code | phone_number |\n",
    "|---------|-----------------|------------|----------|--------------|\n",
    "| Tom     | manager         | 2019-05-20 | 10001    | 212-438-3984 |\n",
    "| Alison  | salad maker     | 2020-01-04 | 10023    | 212-329-2489 |\n",
    "| Jerry   | delivery driver | 2019-12-15 |  10001   | 212-219-1029 |\n",
    "| Brian   |  salad maker    | 2019-12-04 | 10002    | 646-328-2309 |\n",
    "| Vanessa | clerk           | 2019-11-14 | 11201    | 718-348-2348 |"
   ]
  },
  {
   "cell_type": "markdown",
   "metadata": {},
   "source": [
    "If the data has been inserted correctly, running the following `select * from employees` in the sqlite shell will return all of the data in the ingredients table."
   ]
  },
  {
   "cell_type": "markdown",
   "metadata": {},
   "source": [
    "### Conclusion"
   ]
  },
  {
   "cell_type": "markdown",
   "metadata": {},
   "source": [
    "In this lab, we inserted data into the ingredients and employees tables of our saladshop database. This involved two steps. First, creating our .sql file with the INSERT statements. Second, we ran the .sql file in the sqlite shell.\n"
   ]
  }
 ],
 "metadata": {
  "kernelspec": {
   "display_name": "Python 3 (ipykernel)",
   "language": "python",
   "name": "python3"
  },
  "language_info": {
   "codemirror_mode": {
    "name": "ipython",
    "version": 3
   },
   "file_extension": ".py",
   "mimetype": "text/x-python",
   "name": "python",
   "nbconvert_exporter": "python",
   "pygments_lexer": "ipython3",
   "version": "3.9.10"
  }
 },
 "nbformat": 4,
 "nbformat_minor": 4
}
