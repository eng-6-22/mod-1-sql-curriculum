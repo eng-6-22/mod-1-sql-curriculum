{
 "cells": [
  {
   "cell_type": "markdown",
   "id": "a1f539c9-615b-403a-9920-6dcb7fd29ac1",
   "metadata": {},
   "source": [
    "# Write SQL Queries "
   ]
  },
  {
   "cell_type": "markdown",
   "id": "2c6fd739-4d56-48ab-8bf6-6bd0f7c1cc81",
   "metadata": {},
   "source": [
    "* Create a mode account, and then create a new mode report.  Make sure that Mode Public Warehouse is selected in the top right.  We'll work with the *flights* dataset, which can be accessed with the following query:"
   ]
  },
  {
   "cell_type": "markdown",
   "id": "3c4c43a9-3766-4ae8-9f1b-53ae528ea26a",
   "metadata": {},
   "source": [
    "```sql \n",
    "select * from tutorial.flights\n",
    "```"
   ]
  },
  {
   "cell_type": "markdown",
   "id": "5ad618c3-5815-4cc3-97fa-d937e1f89ba4",
   "metadata": {},
   "source": [
    "### Answer the following"
   ]
  },
  {
   "cell_type": "markdown",
   "id": "9291dc85-c6bc-4c16-8a79-e262f0842f36",
   "metadata": {},
   "source": [
    "* Which airline had the worst single-day arrival delay?\n",
    "* Which city was flown to the most?"
   ]
  },
  {
   "cell_type": "code",
   "execution_count": null,
   "id": "55d02f87-e6a6-4dee-8ee9-ac23eb28742d",
   "metadata": {},
   "outputs": [],
   "source": []
  }
 ],
 "metadata": {
  "kernelspec": {
   "display_name": "Python 3 (ipykernel)",
   "language": "python",
   "name": "python3"
  },
  "language_info": {
   "codemirror_mode": {
    "name": "ipython",
    "version": 3
   },
   "file_extension": ".py",
   "mimetype": "text/x-python",
   "name": "python",
   "nbconvert_exporter": "python",
   "pygments_lexer": "ipython3",
   "version": "3.9.10"
  }
 },
 "nbformat": 4,
 "nbformat_minor": 5
}
