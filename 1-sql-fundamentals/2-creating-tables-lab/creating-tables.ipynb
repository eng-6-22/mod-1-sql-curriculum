{
 "cells": [
  {
   "cell_type": "markdown",
   "metadata": {},
   "source": [
    "# Creating Tables Lab"
   ]
  },
  {
   "cell_type": "markdown",
   "metadata": {},
   "source": [
    "### Introduction"
   ]
  },
  {
   "cell_type": "markdown",
   "metadata": {},
   "source": [
    "Mean green is a burgeoning salad shop that has been growing in popularity since opening this past year.  It wants to use SQL to keep track of the ingredients it needs to order, and what is involved in each salad, and its employees.  Let's help them get started by creating a couple of tables in their database."
   ]
  },
  {
   "cell_type": "markdown",
   "metadata": {},
   "source": [
    "### Creating an Ingredients Table"
   ]
  },
  {
   "cell_type": "markdown",
   "metadata": {},
   "source": [
    "1. Creating the Database\n",
    "\n",
    "Let's practice creating a table in our salad shop database in our SQLite shell. \n",
    "\n",
    "First create the database `saladshop.db` with the command: `sqlite3 saladshop.db`\n",
    "\n",
    "\n",
    "2. Creating Tables\n",
    "\n",
    "After we have created the database, we can begin to add tables.  To begin, create a file called `create_ingredients.sql`, then fill in the code to create an ingredients table with the following columns and data types:"
   ]
  },
  {
   "cell_type": "markdown",
   "metadata": {},
   "source": [
    "* Ingredient name - TEXT\n",
    "* Cost per ounce - FLOAT\n",
    "* Calories per ounce - INTEGER\n",
    "* Expiration date - DATE\n",
    "\n",
    "\n",
    "Hint: Remember to include an id column using Integer Primary Key Autoincrement"
   ]
  },
  {
   "cell_type": "markdown",
   "metadata": {},
   "source": [
    "> Remember our syntax for creating a table in the database:\n",
    "> ```sql\n",
    "CREATE TABLE _____ (______);\n",
    "```"
   ]
  },
  {
   "cell_type": "markdown",
   "metadata": {},
   "source": [
    "Then, **check your work** by looking at `.tables` in the SQLite shell \n",
    "to ensure Ingredients is in our database."
   ]
  },
  {
   "cell_type": "markdown",
   "metadata": {},
   "source": [
    "### Creating an employees table"
   ]
  },
  {
   "cell_type": "markdown",
   "metadata": {},
   "source": [
    "Let's add another new table to our database, one that will store information about the employees.\n",
    "\n",
    "Notice below how we store zip code and phone number as TEXT and not as INTEGER. As mentioned above, we are probably not going to want to perform mathematical operations on these two columns, so here it makes sense to store them as TEXT. "
   ]
  },
  {
   "cell_type": "markdown",
   "metadata": {},
   "source": [
    "* Employee name - TEXT\n",
    "* Employee position - TEXT\n",
    "* Employee start date - DATE\n",
    "* Employee home zip code - TEXT\n",
    "* Employee phone number - TEXT"
   ]
  },
  {
   "cell_type": "markdown",
   "metadata": {},
   "source": [
    "Once again, to make sure you have created the table, look at `.tables` to ensure employees is in our database."
   ]
  },
  {
   "cell_type": "markdown",
   "metadata": {},
   "source": [
    "#### Data Types\n",
    "\n",
    "Now that you've finished the lab, let's briefly discuss datatypes in SQL. \n",
    "\n",
    "So far we have mainly worked with two of the most common datatypes: Integer, and Text.  You can view a list of other common data types [here](https://www.w3schools.com/sql/sql_datatypes.asp). When determining what data type to use for a column, we need to think not just about what the data represents (i.e. a number), but also how we may want to manipulate and organize that data. Our name column really only has one data type that would work, TEXT. But it isn't always this simple. For example, our column phone_number is being stored as TEXT, but it could also be stored as an integer. Storing data as an integer could be helpful if we wanted to compare the size of integers, or if we wanted to perform certain mathematical calculations on the data (i.e. the mean). Since we don't compare phone numbers in that way (we probably aren't interested in the average phone number or the sum of phone numbers), in this case, it makes more sense to store it as text."
   ]
  },
  {
   "cell_type": "markdown",
   "metadata": {},
   "source": [
    "### Conclusion"
   ]
  },
  {
   "cell_type": "markdown",
   "metadata": {},
   "source": [
    "During this lab we created two new tables in our salad shop database using the CREATE TABLE function. We created these tables to store information about the ingredients and employees of our shop. When creating the tables, we specified what columns to include, as well as their associated data types. We are now ready to begin adding data to the tables. "
   ]
  }
 ],
 "metadata": {
  "kernelspec": {
   "display_name": "Python 3 (ipykernel)",
   "language": "python",
   "name": "python3"
  },
  "language_info": {
   "codemirror_mode": {
    "name": "ipython",
    "version": 3
   },
   "file_extension": ".py",
   "mimetype": "text/x-python",
   "name": "python",
   "nbconvert_exporter": "python",
   "pygments_lexer": "ipython3",
   "version": "3.9.10"
  }
 },
 "nbformat": 4,
 "nbformat_minor": 4
}
