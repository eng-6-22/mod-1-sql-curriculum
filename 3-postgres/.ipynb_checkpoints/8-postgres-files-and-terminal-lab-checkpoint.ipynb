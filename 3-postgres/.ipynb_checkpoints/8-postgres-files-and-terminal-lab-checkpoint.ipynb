{
 "cells": [
  {
   "cell_type": "markdown",
   "metadata": {},
   "source": [
    "# Postgres Files and Terminal Lab"
   ]
  },
  {
   "cell_type": "markdown",
   "metadata": {},
   "source": [
    "### Introduction"
   ]
  },
  {
   "cell_type": "markdown",
   "metadata": {},
   "source": [
    "In this lesson, we'll work through the bash terminal to write sql commands to create and load data into a postgres database.  Let's get started."
   ]
  },
  {
   "cell_type": "markdown",
   "metadata": {},
   "source": [
    "### Creating a Table"
   ]
  },
  {
   "cell_type": "markdown",
   "metadata": {},
   "source": [
    "For this lesson, we'll create a table to store data from a csv file that has our movie revenue data. "
   ]
  },
  {
   "cell_type": "markdown",
   "metadata": {},
   "source": [
    "We can begin by downloading our data onto our computer by placing the following command in the terminal.\n",
    "\n",
    "```bash\n",
    "curl https://raw.githubusercontent.com/jigsawlabs-student/curriculum-images/main/postgres-curriculum/imdb_movies.csv -o imdb_movies.csv\n",
    "```\n",
    "\n",
    "Then take a look at the first few lines of the file by running the following in the terminal.  "
   ]
  },
  {
   "cell_type": "markdown",
   "metadata": {},
   "source": [
    "> We use the linux command `head` to explore the file."
   ]
  },
  {
   "cell_type": "markdown",
   "metadata": {},
   "source": [
    "```bash\n",
    "head imdb_movies.csv\n",
    "```"
   ]
  },
  {
   "cell_type": "markdown",
   "metadata": {},
   "source": [
    "So it looks like we should create a table called movies with the following columns:"
   ]
  },
  {
   "cell_type": "markdown",
   "metadata": {},
   "source": [
    "* id serial\n",
    "* title varchar(255)\n",
    "* genre varchar(255)\n",
    "* budget bigint\n",
    "* runtime decimal\n",
    "* year integer\n",
    "* month integer\n",
    "* revenue bigint\n",
    "* created_at timestamp "
   ]
  },
  {
   "cell_type": "markdown",
   "metadata": {},
   "source": [
    "Let's also add the following constraints that title must be unique and present on each column, and id should be the primary key.  The created_at column should have a default value of the current time. \n",
    "\n",
    "Write the command in a new file called `create_movies.sql`."
   ]
  },
  {
   "cell_type": "markdown",
   "metadata": {},
   "source": [
    "### Executing the file"
   ]
  },
  {
   "cell_type": "markdown",
   "metadata": {},
   "source": [
    "Begin by logging into the postgres shell as the postgres user and create a new database called movies.  Confirm that the new database exists by listing the databases."
   ]
  },
  {
   "cell_type": "markdown",
   "metadata": {},
   "source": [
    "Then logout of the postgres shell, and create the table from the bash terminal as the postgres user."
   ]
  },
  {
   "cell_type": "code",
   "execution_count": null,
   "metadata": {},
   "outputs": [],
   "source": []
  },
  {
   "cell_type": "markdown",
   "metadata": {},
   "source": [
    "We should see the following output."
   ]
  },
  {
   "cell_type": "markdown",
   "metadata": {},
   "source": [
    "> ``CREATE TABLE``"
   ]
  },
  {
   "cell_type": "markdown",
   "metadata": {},
   "source": [
    "We can confirm that it worked, still from the terminal, by using the command to list all of the tables in the movies database.  Let's give it a shot."
   ]
  },
  {
   "cell_type": "markdown",
   "metadata": {},
   "source": [
    "```bash\n",
    "         List of relations\n",
    " Schema |  Name  | Type  |  Owner\n",
    "--------+--------+-------+----------\n",
    " public | movies | table | postgres\n",
    "(1 row)\n",
    "```"
   ]
  },
  {
   "cell_type": "markdown",
   "metadata": {},
   "source": [
    "Ok, now let's load the csv file into the database.  We can do so with the following command."
   ]
  },
  {
   "cell_type": "markdown",
   "metadata": {},
   "source": [
    "` \\copy movies (title, genre, budget, runtime, year, month, revenue) FROM '/path/to/imdb_movies.csv' DELIMITER ',' CSV HEADER;`"
   ]
  },
  {
   "cell_type": "markdown",
   "metadata": {},
   "source": [
    "We'll see the following as output."
   ]
  },
  {
   "cell_type": "markdown",
   "metadata": {},
   "source": [
    "> `COPY 2000`"
   ]
  },
  {
   "cell_type": "markdown",
   "metadata": {},
   "source": [
    "Finally, from the shell we can output the first ten movies with the -c command, and having the output format as csv by adding --csv at the end."
   ]
  },
  {
   "cell_type": "markdown",
   "metadata": {},
   "source": [
    "Then if we want to write the results of our bash command to a new file, we can do so with:"
   ]
  },
  {
   "cell_type": "markdown",
   "metadata": {},
   "source": [
    "\n",
    "`PGPASSWORD=postgres psql movies -U postgres -c \"SELECT * FROM movies LIMIT 10;\" --csv | tee  selected_movies.csv`"
   ]
  },
  {
   "cell_type": "markdown",
   "metadata": {},
   "source": [
    "### Summary"
   ]
  },
  {
   "cell_type": "markdown",
   "metadata": {},
   "source": [
    "In this lab we practiced working both creating tables and working from the command line.  We can execute a file from the command line with the following:\n",
    "\n",
    "`PGPASSWORD=postgres psql movies -U postgres -f create_movies.sql`\n",
    "\n",
    "Then we saw that we can connect to the postgres shell and load data into our newly created table with something like the following:\n",
    "\n",
    "`\\copy table_name (col_1, col_2) FROM '/path/to/data.csv' DELIMITER ',' CSV HEADER;`"
   ]
  },
  {
   "cell_type": "markdown",
   "metadata": {},
   "source": [
    "Finally, we outputted selected from the bash terminal and outputted the data to the csv file."
   ]
  },
  {
   "cell_type": "markdown",
   "metadata": {},
   "source": [
    "\n",
    "`PGPASSWORD=postgres psql movies -U postgres -c \"SELECT * FROM movies LIMIT 10;\" --csv | tee  selected_movies.csv`"
   ]
  },
  {
   "cell_type": "markdown",
   "metadata": {},
   "source": [
    "### Resources\n",
    "\n",
    "[Copy few Columns](https://stackoverflow.com/questions/12618232/copy-a-few-of-the-columns-of-a-csv-file-into-a-table)\n"
   ]
  }
 ],
 "metadata": {
  "kernelspec": {
   "display_name": "Python 3 (ipykernel)",
   "language": "python",
   "name": "python3"
  },
  "language_info": {
   "codemirror_mode": {
    "name": "ipython",
    "version": 3
   },
   "file_extension": ".py",
   "mimetype": "text/x-python",
   "name": "python",
   "nbconvert_exporter": "python",
   "pygments_lexer": "ipython3",
   "version": "3.9.10"
  }
 },
 "nbformat": 4,
 "nbformat_minor": 4
}
